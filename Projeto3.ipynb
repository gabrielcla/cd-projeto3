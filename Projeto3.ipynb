{
 "cells": [
  {
   "cell_type": "markdown",
   "metadata": {},
   "source": [
    "# Projeto 3\n",
    "### Equipe: Gabriel Couto, Luiz Felipe e Rogério Ferrari"
   ]
  },
  {
   "cell_type": "markdown",
   "metadata": {},
   "source": [
    "##### Importando bibliotecas:"
   ]
  },
  {
   "cell_type": "code",
   "execution_count": 1,
   "metadata": {},
   "outputs": [],
   "source": [
    "import pandas as pd\n",
    "import numpy as np\n",
    "from sklearn.model_selection import train_test_split\n",
    "from sklearn.linear_model import LogisticRegression\n",
    "from sklearn.metrics import accuracy_score\n",
    "import statsmodels.api as sm"
   ]
  },
  {
   "cell_type": "markdown",
   "metadata": {},
   "source": [
    "##### Carregando dados e organizando:"
   ]
  },
  {
   "cell_type": "code",
   "execution_count": 2,
   "metadata": {},
   "outputs": [],
   "source": [
    "dados = pd.read_table('seguros.csv', encoding=\"UTF\", sep=\",\")\n",
    "dados.columns = ['Idade','Sexo', 'IMC','Filhos', 'Fumante', 'Regiao', 'Despesas']\n",
    "\n",
    "#Remove colunas desnecessárias\n",
    "dados.drop('Regiao', axis=1, inplace=True) \n",
    "\n",
    "#Convertendo Sexo para inteiros // 1 = homem, 0 = mulher\n",
    "dados.loc[dados[dados.Sexo==\"male\"].index,\"Sexo\"] = 1\n",
    "dados.loc[dados[dados.Sexo==\"female\"].index,\"Sexo\"] = 0\n",
    "\n",
    "#Convertendo Fumante para inteiros // 0 = não fumante, 1 = fumante\n",
    "dados.loc[dados[dados.Fumante==\"no\"].index,\"Fumante\"] = 0\n",
    "dados.loc[dados[dados.Fumante==\"yes\"].index,\"Fumante\"] = 1\n",
    "dados.Fumante = dados.Fumante.astype('int')\n",
    "\n",
    "#Convertendo IMC e Despesas\n",
    "for i in range(len(dados)):\n",
    "    dados.at[i,'IMC'] = round(dados.at[i,'IMC'], 1)\n",
    "dados.Despesas = dados.Despesas.astype('int')"
   ]
  },
  {
   "cell_type": "markdown",
   "metadata": {},
   "source": [
    "## Análise exploratória"
   ]
  },
  {
   "cell_type": "markdown",
   "metadata": {},
   "source": [
    "As variáveis qualitativas:"
   ]
  },
  {
   "cell_type": "code",
   "execution_count": 3,
   "metadata": {},
   "outputs": [
    {
     "data": {
      "text/html": [
       "<div>\n",
       "<style scoped>\n",
       "    .dataframe tbody tr th:only-of-type {\n",
       "        vertical-align: middle;\n",
       "    }\n",
       "\n",
       "    .dataframe tbody tr th {\n",
       "        vertical-align: top;\n",
       "    }\n",
       "\n",
       "    .dataframe thead th {\n",
       "        text-align: right;\n",
       "    }\n",
       "</style>\n",
       "<table border=\"1\" class=\"dataframe\">\n",
       "  <thead>\n",
       "    <tr style=\"text-align: right;\">\n",
       "      <th></th>\n",
       "      <th>Despesas</th>\n",
       "      <th>Idade</th>\n",
       "      <th>IMC</th>\n",
       "      <th>Filhos</th>\n",
       "    </tr>\n",
       "  </thead>\n",
       "  <tbody>\n",
       "    <tr>\n",
       "      <th>count</th>\n",
       "      <td>1338.000000</td>\n",
       "      <td>1338.000000</td>\n",
       "      <td>1338.000000</td>\n",
       "      <td>1338.000000</td>\n",
       "    </tr>\n",
       "    <tr>\n",
       "      <th>mean</th>\n",
       "      <td>13269.928999</td>\n",
       "      <td>39.207025</td>\n",
       "      <td>30.663303</td>\n",
       "      <td>1.094918</td>\n",
       "    </tr>\n",
       "    <tr>\n",
       "      <th>std</th>\n",
       "      <td>12110.012755</td>\n",
       "      <td>14.049960</td>\n",
       "      <td>6.098257</td>\n",
       "      <td>1.205493</td>\n",
       "    </tr>\n",
       "    <tr>\n",
       "      <th>min</th>\n",
       "      <td>1121.000000</td>\n",
       "      <td>18.000000</td>\n",
       "      <td>16.000000</td>\n",
       "      <td>0.000000</td>\n",
       "    </tr>\n",
       "    <tr>\n",
       "      <th>25%</th>\n",
       "      <td>4740.000000</td>\n",
       "      <td>27.000000</td>\n",
       "      <td>26.300000</td>\n",
       "      <td>0.000000</td>\n",
       "    </tr>\n",
       "    <tr>\n",
       "      <th>50%</th>\n",
       "      <td>9381.500000</td>\n",
       "      <td>39.000000</td>\n",
       "      <td>30.400000</td>\n",
       "      <td>1.000000</td>\n",
       "    </tr>\n",
       "    <tr>\n",
       "      <th>75%</th>\n",
       "      <td>16639.250000</td>\n",
       "      <td>51.000000</td>\n",
       "      <td>34.700000</td>\n",
       "      <td>2.000000</td>\n",
       "    </tr>\n",
       "    <tr>\n",
       "      <th>max</th>\n",
       "      <td>63770.000000</td>\n",
       "      <td>64.000000</td>\n",
       "      <td>53.100000</td>\n",
       "      <td>5.000000</td>\n",
       "    </tr>\n",
       "  </tbody>\n",
       "</table>\n",
       "</div>"
      ],
      "text/plain": [
       "           Despesas        Idade          IMC       Filhos\n",
       "count   1338.000000  1338.000000  1338.000000  1338.000000\n",
       "mean   13269.928999    39.207025    30.663303     1.094918\n",
       "std    12110.012755    14.049960     6.098257     1.205493\n",
       "min     1121.000000    18.000000    16.000000     0.000000\n",
       "25%     4740.000000    27.000000    26.300000     0.000000\n",
       "50%     9381.500000    39.000000    30.400000     1.000000\n",
       "75%    16639.250000    51.000000    34.700000     2.000000\n",
       "max    63770.000000    64.000000    53.100000     5.000000"
      ]
     },
     "execution_count": 3,
     "metadata": {},
     "output_type": "execute_result"
    }
   ],
   "source": [
    "dados.loc[:,[\"Despesas\",\"Idade\",\"IMC\",\"Filhos\"]].describe()"
   ]
  },
  {
   "cell_type": "markdown",
   "metadata": {},
   "source": [
    "##### Correlação entre as colunas:"
   ]
  },
  {
   "cell_type": "code",
   "execution_count": 4,
   "metadata": {},
   "outputs": [
    {
     "data": {
      "text/html": [
       "<div>\n",
       "<style scoped>\n",
       "    .dataframe tbody tr th:only-of-type {\n",
       "        vertical-align: middle;\n",
       "    }\n",
       "\n",
       "    .dataframe tbody tr th {\n",
       "        vertical-align: top;\n",
       "    }\n",
       "\n",
       "    .dataframe thead th {\n",
       "        text-align: right;\n",
       "    }\n",
       "</style>\n",
       "<table border=\"1\" class=\"dataframe\">\n",
       "  <thead>\n",
       "    <tr style=\"text-align: right;\">\n",
       "      <th></th>\n",
       "      <th>Idade</th>\n",
       "      <th>Sexo</th>\n",
       "      <th>IMC</th>\n",
       "      <th>Filhos</th>\n",
       "      <th>Fumante</th>\n",
       "      <th>Despesas</th>\n",
       "    </tr>\n",
       "  </thead>\n",
       "  <tbody>\n",
       "    <tr>\n",
       "      <th>Idade</th>\n",
       "      <td>1.000000</td>\n",
       "      <td>-0.020856</td>\n",
       "      <td>0.109326</td>\n",
       "      <td>0.042469</td>\n",
       "      <td>-0.025019</td>\n",
       "      <td>0.299009</td>\n",
       "    </tr>\n",
       "    <tr>\n",
       "      <th>Sexo</th>\n",
       "      <td>-0.020856</td>\n",
       "      <td>1.000000</td>\n",
       "      <td>0.046495</td>\n",
       "      <td>0.017163</td>\n",
       "      <td>0.076185</td>\n",
       "      <td>0.057293</td>\n",
       "    </tr>\n",
       "    <tr>\n",
       "      <th>IMC</th>\n",
       "      <td>0.109326</td>\n",
       "      <td>0.046495</td>\n",
       "      <td>1.000000</td>\n",
       "      <td>0.012724</td>\n",
       "      <td>0.003906</td>\n",
       "      <td>0.198539</td>\n",
       "    </tr>\n",
       "    <tr>\n",
       "      <th>Filhos</th>\n",
       "      <td>0.042469</td>\n",
       "      <td>0.017163</td>\n",
       "      <td>0.012724</td>\n",
       "      <td>1.000000</td>\n",
       "      <td>0.007673</td>\n",
       "      <td>0.067999</td>\n",
       "    </tr>\n",
       "    <tr>\n",
       "      <th>Fumante</th>\n",
       "      <td>-0.025019</td>\n",
       "      <td>0.076185</td>\n",
       "      <td>0.003906</td>\n",
       "      <td>0.007673</td>\n",
       "      <td>1.000000</td>\n",
       "      <td>0.787251</td>\n",
       "    </tr>\n",
       "    <tr>\n",
       "      <th>Despesas</th>\n",
       "      <td>0.299009</td>\n",
       "      <td>0.057293</td>\n",
       "      <td>0.198539</td>\n",
       "      <td>0.067999</td>\n",
       "      <td>0.787251</td>\n",
       "      <td>1.000000</td>\n",
       "    </tr>\n",
       "  </tbody>\n",
       "</table>\n",
       "</div>"
      ],
      "text/plain": [
       "             Idade      Sexo       IMC    Filhos   Fumante  Despesas\n",
       "Idade     1.000000 -0.020856  0.109326  0.042469 -0.025019  0.299009\n",
       "Sexo     -0.020856  1.000000  0.046495  0.017163  0.076185  0.057293\n",
       "IMC       0.109326  0.046495  1.000000  0.012724  0.003906  0.198539\n",
       "Filhos    0.042469  0.017163  0.012724  1.000000  0.007673  0.067999\n",
       "Fumante  -0.025019  0.076185  0.003906  0.007673  1.000000  0.787251\n",
       "Despesas  0.299009  0.057293  0.198539  0.067999  0.787251  1.000000"
      ]
     },
     "execution_count": 4,
     "metadata": {},
     "output_type": "execute_result"
    }
   ],
   "source": [
    "dados.corr()"
   ]
  },
  {
   "cell_type": "markdown",
   "metadata": {},
   "source": [
    "A correlação entre as colunas Despesas e Fumante é bem maior que a correlação entre Despesas e qualquer outra coluna."
   ]
  },
  {
   "cell_type": "markdown",
   "metadata": {},
   "source": [
    "##### Parcela de fumantes:"
   ]
  },
  {
   "cell_type": "code",
   "execution_count": 5,
   "metadata": {},
   "outputs": [
    {
     "name": "stdout",
     "output_type": "stream",
     "text": [
      "Fumantes: 20.5 %  | Não Fumantes: 79.5 %\n"
     ]
    }
   ],
   "source": [
    "fuma_ou_nao = dados.Fumante.value_counts(True)\n",
    "print(\"Fumantes:\",100*round(fuma_ou_nao[1],3),\"%\",\" |\",\"Não Fumantes:\", 100*round(fuma_ou_nao[0],3),\"%\")"
   ]
  },
  {
   "cell_type": "markdown",
   "metadata": {},
   "source": [
    "##### Histograma das despesas:"
   ]
  },
  {
   "cell_type": "code",
   "execution_count": 6,
   "metadata": {},
   "outputs": [
    {
     "data": {
      "text/plain": [
       "<matplotlib.axes._subplots.AxesSubplot at 0x203c207cf60>"
      ]
     },
     "execution_count": 6,
     "metadata": {},
     "output_type": "execute_result"
    },
    {
     "data": {
      "image/png": "[encoded data removed]",
      "text/plain": [
       "<Figure size 432x288 with 1 Axes>"
      ]
     },
     "metadata": {},
     "output_type": "display_data"
    }
   ],
   "source": [
    "dados[\"Despesas\"].hist(density=True, bins=50)"
   ]
  },
  {
   "cell_type": "markdown",
   "metadata": {},
   "source": [
    "Pela distribuição do histograma podemos dividir a amostra por renda em 4 categorias pelos pontos: 15000, 30000 e 5000."
   ]
  },
  {
   "cell_type": "markdown",
   "metadata": {},
   "source": [
    "##### Dividindo Despesas em 4 categorias:"
   ]
  },
  {
   "cell_type": "code",
   "execution_count": 7,
   "metadata": {},
   "outputs": [],
   "source": [
    "for i in range(len(dados['Despesas'])):\n",
    "    if dados.loc[i,'Despesas'] <= 15000:\n",
    "        dados.at[i,'Despesas'] = 0\n",
    "    if dados.loc[i,'Despesas'] > 15000 and dados.loc[i,'Despesas'] <= 30000:\n",
    "        dados.at[i,'Despesas'] = 1\n",
    "    if dados.loc[i,'Despesas'] > 30000 and dados.loc[i,'Despesas'] <= 50000:\n",
    "        dados.at[i,'Despesas'] = 2\n",
    "    if dados.loc[i,'Despesas'] > 50000:\n",
    "        dados.at[i,'Despesas'] = 3"
   ]
  },
  {
   "cell_type": "markdown",
   "metadata": {},
   "source": [
    "##### Pegando amostra de 200 elementos aleatórios"
   ]
  },
  {
   "cell_type": "code",
   "execution_count": 8,
   "metadata": {},
   "outputs": [
    {
     "name": "stdout",
     "output_type": "stream",
     "text": [
      "Proporção de fumantes na amostra:\n",
      "Fumantes: 77.5 %  | Não Fumantes: 22.5 %\n"
     ]
    }
   ],
   "source": [
    "train = dados.sample(n=200)\n",
    "fuma_ou_nao = train.Fumante.value_counts(True)\n",
    "print(\"Proporção de fumantes na amostra:\")\n",
    "print(\"Fumantes:\", 100*round(fuma_ou_nao[0],4),\"%\",\" |\",\"Não Fumantes:\", 100*round(fuma_ou_nao[1],4),\"%\")"
   ]
  },
  {
   "cell_type": "markdown",
   "metadata": {},
   "source": [
    "##### Separando o treinamento do teste:"
   ]
  },
  {
   "cell_type": "code",
   "execution_count": 9,
   "metadata": {},
   "outputs": [],
   "source": [
    "#Separar variável Fumante das outras\n",
    "x = dados.iloc[:,[0,1,2,3,5]]\n",
    "y = dados.Fumante\n",
    "\n",
    "# X_test e Y_test são as duas variáveis do meu teste\n",
    "X_train, X_test, y_train, y_test = train_test_split(x, y, test_size=0.2, random_state=50)"
   ]
  },
  {
   "cell_type": "markdown",
   "metadata": {},
   "source": [
    "Como Despesas e Fumante são agora qualitativas usaremos umas regressão logística."
   ]
  },
  {
   "cell_type": "markdown",
   "metadata": {},
   "source": [
    "## Regressão Logística:"
   ]
  },
  {
   "cell_type": "code",
   "execution_count": 18,
   "metadata": {},
   "outputs": [
    {
     "name": "stdout",
     "output_type": "stream",
     "text": [
      "Acurácia:  96.6 %\n"
     ]
    }
   ],
   "source": [
    "model = LogisticRegression()  # Existe aleatoriedade dentro do SGDClassifier.\n",
    "model.fit(X_train, y_train)\n",
    "teste = model.predict(X_test)\n",
    "y_pred = model.predict(X_test)\n",
    "print('Acurácia: ',round(accuracy_score(y_test, y_pred),3)*100,\"%\")"
   ]
  },
  {
   "cell_type": "code",
   "execution_count": 20,
   "metadata": {},
   "outputs": [
    {
     "data": {
      "text/html": [
       "<table class=\"simpletable\">\n",
       "<caption>OLS Regression Results</caption>\n",
       "<tr>\n",
       "  <th>Dep. Variable:</th>         <td>Fumante</td>     <th>  R-squared:         </th> <td>   0.710</td>\n",
       "</tr>\n",
       "<tr>\n",
       "  <th>Model:</th>                   <td>OLS</td>       <th>  Adj. R-squared:    </th> <td>   0.709</td>\n",
       "</tr>\n",
       "<tr>\n",
       "  <th>Method:</th>             <td>Least Squares</td>  <th>  F-statistic:       </th> <td>   814.4</td>\n",
       "</tr>\n",
       "<tr>\n",
       "  <th>Date:</th>             <td>Thu, 22 Nov 2018</td> <th>  Prob (F-statistic):</th>  <td>  0.00</td> \n",
       "</tr>\n",
       "<tr>\n",
       "  <th>Time:</th>                 <td>20:13:55</td>     <th>  Log-Likelihood:    </th> <td>  142.92</td>\n",
       "</tr>\n",
       "<tr>\n",
       "  <th>No. Observations:</th>      <td>  1338</td>      <th>  AIC:               </th> <td>  -275.8</td>\n",
       "</tr>\n",
       "<tr>\n",
       "  <th>Df Residuals:</th>          <td>  1333</td>      <th>  BIC:               </th> <td>  -249.8</td>\n",
       "</tr>\n",
       "<tr>\n",
       "  <th>Df Model:</th>              <td>     4</td>      <th>                     </th>     <td> </td>   \n",
       "</tr>\n",
       "<tr>\n",
       "  <th>Covariance Type:</th>      <td>nonrobust</td>    <th>                     </th>     <td> </td>   \n",
       "</tr>\n",
       "</table>\n",
       "<table class=\"simpletable\">\n",
       "<tr>\n",
       "    <td></td>       <th>coef</th>     <th>std err</th>      <th>t</th>      <th>P>|t|</th>  <th>[0.025</th>    <th>0.975]</th>  \n",
       "</tr>\n",
       "<tr>\n",
       "  <th>const</th> <td>    0.3115</td> <td>    0.034</td> <td>    9.214</td> <td> 0.000</td> <td>    0.245</td> <td>    0.378</td>\n",
       "</tr>\n",
       "<tr>\n",
       "  <th>x1</th>    <td>   -0.0014</td> <td>    0.000</td> <td>   -3.236</td> <td> 0.001</td> <td>   -0.002</td> <td>   -0.001</td>\n",
       "</tr>\n",
       "<tr>\n",
       "  <th>x2</th>    <td>    0.0076</td> <td>    0.012</td> <td>    0.636</td> <td> 0.525</td> <td>   -0.016</td> <td>    0.031</td>\n",
       "</tr>\n",
       "<tr>\n",
       "  <th>x3</th>    <td>   -0.0081</td> <td>    0.001</td> <td>   -8.111</td> <td> 0.000</td> <td>   -0.010</td> <td>   -0.006</td>\n",
       "</tr>\n",
       "<tr>\n",
       "  <th>x4</th>    <td>    0.4851</td> <td>    0.009</td> <td>   56.818</td> <td> 0.000</td> <td>    0.468</td> <td>    0.502</td>\n",
       "</tr>\n",
       "</table>\n",
       "<table class=\"simpletable\">\n",
       "<tr>\n",
       "  <th>Omnibus:</th>       <td>155.974</td> <th>  Durbin-Watson:     </th> <td>   2.043</td> \n",
       "</tr>\n",
       "<tr>\n",
       "  <th>Prob(Omnibus):</th> <td> 0.000</td>  <th>  Jarque-Bera (JB):  </th> <td>1215.672</td> \n",
       "</tr>\n",
       "<tr>\n",
       "  <th>Skew:</th>          <td>-0.214</td>  <th>  Prob(JB):          </th> <td>1.05e-264</td>\n",
       "</tr>\n",
       "<tr>\n",
       "  <th>Kurtosis:</th>      <td> 7.650</td>  <th>  Cond. No.          </th> <td>    291.</td> \n",
       "</tr>\n",
       "</table><br/><br/>Warnings:<br/>[1] Standard Errors assume that the covariance matrix of the errors is correctly specified."
      ],
      "text/plain": [
       "<class 'statsmodels.iolib.summary.Summary'>\n",
       "\"\"\"\n",
       "                            OLS Regression Results                            \n",
       "==============================================================================\n",
       "Dep. Variable:                Fumante   R-squared:                       0.710\n",
       "Model:                            OLS   Adj. R-squared:                  0.709\n",
       "Method:                 Least Squares   F-statistic:                     814.4\n",
       "Date:                Thu, 22 Nov 2018   Prob (F-statistic):               0.00\n",
       "Time:                        20:13:55   Log-Likelihood:                 142.92\n",
       "No. Observations:                1338   AIC:                            -275.8\n",
       "Df Residuals:                    1333   BIC:                            -249.8\n",
       "Df Model:                           4                                         \n",
       "Covariance Type:            nonrobust                                         \n",
       "==============================================================================\n",
       "                 coef    std err          t      P>|t|      [0.025      0.975]\n",
       "------------------------------------------------------------------------------\n",
       "const          0.3115      0.034      9.214      0.000       0.245       0.378\n",
       "x1            -0.0014      0.000     -3.236      0.001      -0.002      -0.001\n",
       "x2             0.0076      0.012      0.636      0.525      -0.016       0.031\n",
       "x3            -0.0081      0.001     -8.111      0.000      -0.010      -0.006\n",
       "x4             0.4851      0.009     56.818      0.000       0.468       0.502\n",
       "==============================================================================\n",
       "Omnibus:                      155.974   Durbin-Watson:                   2.043\n",
       "Prob(Omnibus):                  0.000   Jarque-Bera (JB):             1215.672\n",
       "Skew:                          -0.214   Prob(JB):                    1.05e-264\n",
       "Kurtosis:                       7.650   Cond. No.                         291.\n",
       "==============================================================================\n",
       "\n",
       "Warnings:\n",
       "[1] Standard Errors assume that the covariance matrix of the errors is correctly specified.\n",
       "\"\"\""
      ]
     },
     "execution_count": 20,
     "metadata": {},
     "output_type": "execute_result"
    }
   ],
   "source": [
    "varind = np.asarray(dados[[\"Idade\",\"Sexo\",\"IMC\",\"Despesas\"]])\n",
    "varind = sm.add_constant(varind)\n",
    "vardep = dados[\"Fumante\"]\n",
    "mod = sm.OLS(vardep.astype(float),varind.astype(float))\n",
    "res = mod.fit()\n",
    "res.summary()"
   ]
  },
  {
   "cell_type": "code",
   "execution_count": null,
   "metadata": {},
   "outputs": [],
   "source": []
  },
  {
   "cell_type": "code",
   "execution_count": null,
   "metadata": {},
   "outputs": [],
   "source": []
  }
 ],
 "metadata": {
  "kernelspec": {
   "display_name": "Python 3",
   "language": "python",
   "name": "python3"
  },
  "language_info": {
   "codemirror_mode": {
    "name": "ipython",
    "version": 3
   },
   "file_extension": ".py",
   "mimetype": "text/x-python",
   "name": "python",
   "nbconvert_exporter": "python",
   "pygments_lexer": "ipython3",
   "version": "3.6.5"
  }
 },
 "nbformat": 4,
 "nbformat_minor": 2
}
