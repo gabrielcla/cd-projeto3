{
 "cells": [
  {
   "cell_type": "markdown",
   "metadata": {},
   "source": [
    "# Projeto 3\n",
    "### Equipe: Gabriel Couto, Luiz Felipe e Rogério Ferrari"
   ]
  },
  {
   "cell_type": "markdown",
   "metadata": {},
   "source": [
    "##### Importando bibliotecas:"
   ]
  },
  {
   "cell_type": "code",
   "execution_count": 160,
   "metadata": {},
   "outputs": [],
   "source": [
    "import pandas as pd\n",
    "import numpy as np\n",
    "from sklearn.model_selection import train_test_split\n",
    "from sklearn.linear_model import LogisticRegression\n",
    "from sklearn.metrics import accuracy_score\n",
    "import statsmodels.api as sm"
   ]
  },
  {
   "cell_type": "markdown",
   "metadata": {},
   "source": [
    "##### Carregando dados e organizando:"
   ]
  },
  {
   "cell_type": "code",
   "execution_count": 161,
   "metadata": {},
   "outputs": [],
   "source": [
    "dados = pd.read_table('seguros.csv', encoding=\"UTF\", sep=\",\")\n",
    "dados.columns = ['Idade','Sexo', 'IMC','Filhos', 'Fumante', 'Regiao', 'Despesas']\n",
    "\n",
    "#Remove colunas desnecessárias\n",
    "dados.drop('Regiao', axis=1, inplace=True) \n",
    "\n",
    "#Convertendo Sexo para inteiros // 0 = homem, 1 = mulher\n",
    "dados.loc[dados[dados.Sexo==\"male\"].index,\"Sexo\"] = 0\n",
    "dados.loc[dados[dados.Sexo==\"female\"].index,\"Sexo\"] = 1\n",
    "\n",
    "#Convertendo Fumante para inteiros // 0 = não fumante, 1 = fumante\n",
    "dados.loc[dados[dados.Fumante==\"no\"].index,\"Fumante\"] = 0\n",
    "dados.loc[dados[dados.Fumante==\"yes\"].index,\"Fumante\"] = 1\n",
    "dados.Fumante = dados.Fumante.astype('int')\n",
    "\n",
    "#Convertendo IMC e Despesas\n",
    "for i in range(len(dados)):\n",
    "    dados.at[i,'IMC'] = round(dados.at[i,'IMC'], 1)\n",
    "dados.Despesas = dados.Despesas.astype('int')"
   ]
  },
  {
   "cell_type": "markdown",
   "metadata": {},
   "source": [
    "##### Separarando parte de teste e lendo o dataset:"
   ]
  },
  {
   "cell_type": "code",
   "execution_count": 162,
   "metadata": {},
   "outputs": [
    {
     "name": "stdout",
     "output_type": "stream",
     "text": [
      "Comprimento dados: 838 | Comprimento teste: 500\n"
     ]
    },
    {
     "data": {
      "text/html": [
       "<div>\n",
       "<style scoped>\n",
       "    .dataframe tbody tr th:only-of-type {\n",
       "        vertical-align: middle;\n",
       "    }\n",
       "\n",
       "    .dataframe tbody tr th {\n",
       "        vertical-align: top;\n",
       "    }\n",
       "\n",
       "    .dataframe thead th {\n",
       "        text-align: right;\n",
       "    }\n",
       "</style>\n",
       "<table border=\"1\" class=\"dataframe\">\n",
       "  <thead>\n",
       "    <tr style=\"text-align: right;\">\n",
       "      <th></th>\n",
       "      <th>Idade</th>\n",
       "      <th>Sexo</th>\n",
       "      <th>IMC</th>\n",
       "      <th>Filhos</th>\n",
       "      <th>Fumante</th>\n",
       "      <th>Despesas</th>\n",
       "    </tr>\n",
       "  </thead>\n",
       "  <tbody>\n",
       "    <tr>\n",
       "      <th>0</th>\n",
       "      <td>19</td>\n",
       "      <td>1</td>\n",
       "      <td>27.9</td>\n",
       "      <td>0</td>\n",
       "      <td>1</td>\n",
       "      <td>16884</td>\n",
       "    </tr>\n",
       "    <tr>\n",
       "      <th>1</th>\n",
       "      <td>18</td>\n",
       "      <td>0</td>\n",
       "      <td>33.8</td>\n",
       "      <td>1</td>\n",
       "      <td>0</td>\n",
       "      <td>1725</td>\n",
       "    </tr>\n",
       "    <tr>\n",
       "      <th>2</th>\n",
       "      <td>28</td>\n",
       "      <td>0</td>\n",
       "      <td>33.0</td>\n",
       "      <td>3</td>\n",
       "      <td>0</td>\n",
       "      <td>4449</td>\n",
       "    </tr>\n",
       "    <tr>\n",
       "      <th>3</th>\n",
       "      <td>33</td>\n",
       "      <td>0</td>\n",
       "      <td>22.7</td>\n",
       "      <td>0</td>\n",
       "      <td>0</td>\n",
       "      <td>21984</td>\n",
       "    </tr>\n",
       "    <tr>\n",
       "      <th>4</th>\n",
       "      <td>32</td>\n",
       "      <td>0</td>\n",
       "      <td>28.9</td>\n",
       "      <td>0</td>\n",
       "      <td>0</td>\n",
       "      <td>3866</td>\n",
       "    </tr>\n",
       "  </tbody>\n",
       "</table>\n",
       "</div>"
      ],
      "text/plain": [
       "   Idade  Sexo   IMC  Filhos  Fumante  Despesas\n",
       "0     19     1  27.9       0        1     16884\n",
       "1     18     0  33.8       1        0      1725\n",
       "2     28     0  33.0       3        0      4449\n",
       "3     33     0  22.7       0        0     21984\n",
       "4     32     0  28.9       0        0      3866"
      ]
     },
     "execution_count": 162,
     "metadata": {},
     "output_type": "execute_result"
    }
   ],
   "source": [
    "if len(dados) > 1000:\n",
    "    teste = dados.iloc[838:1338,:]\n",
    "    dados.drop(dados.index[838:], inplace=True)\n",
    "print(\"Comprimento dados:\",len(dados),\"| Comprimento teste:\",len(teste))\n",
    "dados.head()"
   ]
  },
  {
   "cell_type": "markdown",
   "metadata": {},
   "source": [
    "## Análise exploratória"
   ]
  },
  {
   "cell_type": "markdown",
   "metadata": {},
   "source": [
    "##### Correlação entre as colunas:"
   ]
  },
  {
   "cell_type": "code",
   "execution_count": 163,
   "metadata": {},
   "outputs": [
    {
     "data": {
      "text/html": [
       "<div>\n",
       "<style scoped>\n",
       "    .dataframe tbody tr th:only-of-type {\n",
       "        vertical-align: middle;\n",
       "    }\n",
       "\n",
       "    .dataframe tbody tr th {\n",
       "        vertical-align: top;\n",
       "    }\n",
       "\n",
       "    .dataframe thead th {\n",
       "        text-align: right;\n",
       "    }\n",
       "</style>\n",
       "<table border=\"1\" class=\"dataframe\">\n",
       "  <thead>\n",
       "    <tr style=\"text-align: right;\">\n",
       "      <th></th>\n",
       "      <th>Idade</th>\n",
       "      <th>Sexo</th>\n",
       "      <th>IMC</th>\n",
       "      <th>Filhos</th>\n",
       "      <th>Fumante</th>\n",
       "      <th>Despesas</th>\n",
       "    </tr>\n",
       "  </thead>\n",
       "  <tbody>\n",
       "    <tr>\n",
       "      <th>Idade</th>\n",
       "      <td>1.000000</td>\n",
       "      <td>0.054722</td>\n",
       "      <td>0.116414</td>\n",
       "      <td>0.058041</td>\n",
       "      <td>-0.015038</td>\n",
       "      <td>0.317232</td>\n",
       "    </tr>\n",
       "    <tr>\n",
       "      <th>Sexo</th>\n",
       "      <td>0.054722</td>\n",
       "      <td>1.000000</td>\n",
       "      <td>-0.001433</td>\n",
       "      <td>-0.020959</td>\n",
       "      <td>-0.093896</td>\n",
       "      <td>-0.044870</td>\n",
       "    </tr>\n",
       "    <tr>\n",
       "      <th>IMC</th>\n",
       "      <td>0.116414</td>\n",
       "      <td>-0.001433</td>\n",
       "      <td>1.000000</td>\n",
       "      <td>0.036446</td>\n",
       "      <td>-0.010248</td>\n",
       "      <td>0.192461</td>\n",
       "    </tr>\n",
       "    <tr>\n",
       "      <th>Filhos</th>\n",
       "      <td>0.058041</td>\n",
       "      <td>-0.020959</td>\n",
       "      <td>0.036446</td>\n",
       "      <td>1.000000</td>\n",
       "      <td>0.002153</td>\n",
       "      <td>0.062619</td>\n",
       "    </tr>\n",
       "    <tr>\n",
       "      <th>Fumante</th>\n",
       "      <td>-0.015038</td>\n",
       "      <td>-0.093896</td>\n",
       "      <td>-0.010248</td>\n",
       "      <td>0.002153</td>\n",
       "      <td>1.000000</td>\n",
       "      <td>0.786088</td>\n",
       "    </tr>\n",
       "    <tr>\n",
       "      <th>Despesas</th>\n",
       "      <td>0.317232</td>\n",
       "      <td>-0.044870</td>\n",
       "      <td>0.192461</td>\n",
       "      <td>0.062619</td>\n",
       "      <td>0.786088</td>\n",
       "      <td>1.000000</td>\n",
       "    </tr>\n",
       "  </tbody>\n",
       "</table>\n",
       "</div>"
      ],
      "text/plain": [
       "             Idade      Sexo       IMC    Filhos   Fumante  Despesas\n",
       "Idade     1.000000  0.054722  0.116414  0.058041 -0.015038  0.317232\n",
       "Sexo      0.054722  1.000000 -0.001433 -0.020959 -0.093896 -0.044870\n",
       "IMC       0.116414 -0.001433  1.000000  0.036446 -0.010248  0.192461\n",
       "Filhos    0.058041 -0.020959  0.036446  1.000000  0.002153  0.062619\n",
       "Fumante  -0.015038 -0.093896 -0.010248  0.002153  1.000000  0.786088\n",
       "Despesas  0.317232 -0.044870  0.192461  0.062619  0.786088  1.000000"
      ]
     },
     "execution_count": 163,
     "metadata": {},
     "output_type": "execute_result"
    }
   ],
   "source": [
    "dados.corr()"
   ]
  },
  {
   "cell_type": "markdown",
   "metadata": {},
   "source": [
    "A correlação entre as colunas Despesas e Fumante é bem maior que a correlação entre Despesas e qualquer outra coluna."
   ]
  },
  {
   "cell_type": "markdown",
   "metadata": {},
   "source": [
    "##### Parcela de fumantes:"
   ]
  },
  {
   "cell_type": "code",
   "execution_count": 164,
   "metadata": {},
   "outputs": [
    {
     "name": "stdout",
     "output_type": "stream",
     "text": [
      "Fumantes: 80.4 %  | Não Fumantes: 19.6 %\n"
     ]
    }
   ],
   "source": [
    "fuma_ou_nao = dados.Fumante.value_counts(True)\n",
    "print(\"Fumantes:\", 100*round(fuma_ou_nao[0],3),\"%\",\" |\",\"Não Fumantes:\", 100*round(fuma_ou_nao[1],3),\"%\")"
   ]
  },
  {
   "cell_type": "markdown",
   "metadata": {},
   "source": [
    "##### Histograma das despesas:"
   ]
  },
  {
   "cell_type": "code",
   "execution_count": 165,
   "metadata": {},
   "outputs": [
    {
     "data": {
      "text/plain": [
       "<matplotlib.axes._subplots.AxesSubplot at 0x1e4902a0780>"
      ]
     },
     "execution_count": 165,
     "metadata": {},
     "output_type": "execute_result"
    },
    {
     "data": {
      "image/png": "[encoded data removed]",
      "text/plain": [
       "<Figure size 432x288 with 1 Axes>"
      ]
     },
     "metadata": {},
     "output_type": "display_data"
    }
   ],
   "source": [
    "dados[\"Despesas\"].hist(density=True, bins=50)"
   ]
  },
  {
   "cell_type": "markdown",
   "metadata": {},
   "source": [
    "Pela distribuição do histograma podemos dividir a amostra por renda em 4 categorias pelos pontos: 15000, 30000 e 5000."
   ]
  },
  {
   "cell_type": "markdown",
   "metadata": {},
   "source": [
    "##### Dividindo Despesas em 4 categorias:"
   ]
  },
  {
   "cell_type": "code",
   "execution_count": 174,
   "metadata": {},
   "outputs": [],
   "source": [
    "for i in range(len(dados['Despesas'])):\n",
    "    if dados.loc[i,'Despesas'] <= 15000:\n",
    "        dados.at[i,'Despesas'] = 0\n",
    "    if dados.loc[i,'Despesas'] > 15000 and dados.loc[i,'Despesas'] <= 30000:\n",
    "        dados.at[i,'Despesas'] = 1\n",
    "    if dados.loc[i,'Despesas'] > 30000 and dados.loc[i,'Despesas'] <= 50000:\n",
    "        dados.at[i,'Despesas'] = 2\n",
    "    if dados.loc[i,'Despesas'] > 50000:\n",
    "        dados.at[i,'Despesas'] = 3"
   ]
  },
  {
   "cell_type": "markdown",
   "metadata": {},
   "source": [
    "Como Despesas e Fumante são agora qualitativas usaremos umas regressão logística."
   ]
  },
  {
   "cell_type": "code",
   "execution_count": 167,
   "metadata": {},
   "outputs": [
    {
     "name": "stdout",
     "output_type": "stream",
     "text": [
      "Fumantes: 81.0 %  | Não Fumantes: 19.0 %\n"
     ]
    }
   ],
   "source": [
    "#Pegar amostra de 200 elementos:\n",
    "train = dados.sample(n=200)\n",
    "fuma_ou_nao = train.Fumante.value_counts(True)\n",
    "print(\"Fumantes:\", 100*round(fuma_ou_nao[0],4),\"%\",\" |\",\"Não Fumantes:\", 100*round(fuma_ou_nao[1],4),\"%\")"
   ]
  },
  {
   "cell_type": "code",
   "execution_count": 168,
   "metadata": {},
   "outputs": [],
   "source": [
    "#Separar variavel Fumante das outras\n",
    "x = dados.iloc[:,[0,1,2,3,5]]\n",
    "y = dados.Fumante\n",
    "\n",
    "X_train, X_test, y_train, y_test = train_test_split(x, y, test_size=0.2, random_state=50)"
   ]
  },
  {
   "cell_type": "code",
   "execution_count": 169,
   "metadata": {},
   "outputs": [
    {
     "data": {
      "text/plain": [
       "LogisticRegression(C=1.0, class_weight=None, dual=False, fit_intercept=True,\n",
       "          intercept_scaling=1, max_iter=100, multi_class='ovr', n_jobs=1,\n",
       "          penalty='l2', random_state=None, solver='liblinear', tol=0.0001,\n",
       "          verbose=0, warm_start=False)"
      ]
     },
     "execution_count": 169,
     "metadata": {},
     "output_type": "execute_result"
    }
   ],
   "source": [
    "sgd_clf = LogisticRegression()  # Existe aleatoriedade dentro do SGDClassifier.\n",
    "sgd_clf.fit(X_train, y_train)"
   ]
  },
  {
   "cell_type": "code",
   "execution_count": 170,
   "metadata": {},
   "outputs": [
    {
     "name": "stdout",
     "output_type": "stream",
     "text": [
      "Acurácia: 0.9642857142857143\n"
     ]
    }
   ],
   "source": [
    "teste = sgd_clf.predict(X_test)\n",
    "y_pred = sgd_clf.predict(X_test)\n",
    "print('Acurácia: {}'.format(accuracy_score(y_test, y_pred)))"
   ]
  },
  {
   "cell_type": "code",
   "execution_count": 171,
   "metadata": {},
   "outputs": [
    {
     "data": {
      "text/html": [
       "<table class=\"simpletable\">\n",
       "<caption>OLS Regression Results</caption>\n",
       "<tr>\n",
       "  <th>Dep. Variable:</th>         <td>Fumante</td>     <th>  R-squared:         </th> <td>   0.712</td> \n",
       "</tr>\n",
       "<tr>\n",
       "  <th>Model:</th>                   <td>OLS</td>       <th>  Adj. R-squared:    </th> <td>   0.710</td> \n",
       "</tr>\n",
       "<tr>\n",
       "  <th>Method:</th>             <td>Least Squares</td>  <th>  F-statistic:       </th> <td>   514.4</td> \n",
       "</tr>\n",
       "<tr>\n",
       "  <th>Date:</th>             <td>Thu, 22 Nov 2018</td> <th>  Prob (F-statistic):</th> <td>2.70e-223</td>\n",
       "</tr>\n",
       "<tr>\n",
       "  <th>Time:</th>                 <td>15:45:10</td>     <th>  Log-Likelihood:    </th> <td>  106.92</td> \n",
       "</tr>\n",
       "<tr>\n",
       "  <th>No. Observations:</th>      <td>   838</td>      <th>  AIC:               </th> <td>  -203.8</td> \n",
       "</tr>\n",
       "<tr>\n",
       "  <th>Df Residuals:</th>          <td>   833</td>      <th>  BIC:               </th> <td>  -180.2</td> \n",
       "</tr>\n",
       "<tr>\n",
       "  <th>Df Model:</th>              <td>     4</td>      <th>                     </th>     <td> </td>    \n",
       "</tr>\n",
       "<tr>\n",
       "  <th>Covariance Type:</th>      <td>nonrobust</td>    <th>                     </th>     <td> </td>    \n",
       "</tr>\n",
       "</table>\n",
       "<table class=\"simpletable\">\n",
       "<tr>\n",
       "    <td></td>       <th>coef</th>     <th>std err</th>      <th>t</th>      <th>P>|t|</th>  <th>[0.025</th>    <th>0.975]</th>  \n",
       "</tr>\n",
       "<tr>\n",
       "  <th>const</th> <td>    0.3162</td> <td>    0.043</td> <td>    7.427</td> <td> 0.000</td> <td>    0.233</td> <td>    0.400</td>\n",
       "</tr>\n",
       "<tr>\n",
       "  <th>x1</th>    <td>   -0.0012</td> <td>    0.001</td> <td>   -2.370</td> <td> 0.018</td> <td>   -0.002</td> <td>   -0.000</td>\n",
       "</tr>\n",
       "<tr>\n",
       "  <th>x2</th>    <td>   -0.0159</td> <td>    0.015</td> <td>   -1.073</td> <td> 0.283</td> <td>   -0.045</td> <td>    0.013</td>\n",
       "</tr>\n",
       "<tr>\n",
       "  <th>x3</th>    <td>   -0.0080</td> <td>    0.001</td> <td>   -6.401</td> <td> 0.000</td> <td>   -0.010</td> <td>   -0.006</td>\n",
       "</tr>\n",
       "<tr>\n",
       "  <th>x4</th>    <td>    0.4809</td> <td>    0.011</td> <td>   45.071</td> <td> 0.000</td> <td>    0.460</td> <td>    0.502</td>\n",
       "</tr>\n",
       "</table>\n",
       "<table class=\"simpletable\">\n",
       "<tr>\n",
       "  <th>Omnibus:</th>       <td>108.242</td> <th>  Durbin-Watson:     </th> <td>   1.987</td> \n",
       "</tr>\n",
       "<tr>\n",
       "  <th>Prob(Omnibus):</th> <td> 0.000</td>  <th>  Jarque-Bera (JB):  </th> <td> 868.733</td> \n",
       "</tr>\n",
       "<tr>\n",
       "  <th>Skew:</th>          <td>-0.257</td>  <th>  Prob(JB):          </th> <td>2.27e-189</td>\n",
       "</tr>\n",
       "<tr>\n",
       "  <th>Kurtosis:</th>      <td> 7.961</td>  <th>  Cond. No.          </th> <td>    299.</td> \n",
       "</tr>\n",
       "</table><br/><br/>Warnings:<br/>[1] Standard Errors assume that the covariance matrix of the errors is correctly specified."
      ],
      "text/plain": [
       "<class 'statsmodels.iolib.summary.Summary'>\n",
       "\"\"\"\n",
       "                            OLS Regression Results                            \n",
       "==============================================================================\n",
       "Dep. Variable:                Fumante   R-squared:                       0.712\n",
       "Model:                            OLS   Adj. R-squared:                  0.710\n",
       "Method:                 Least Squares   F-statistic:                     514.4\n",
       "Date:                Thu, 22 Nov 2018   Prob (F-statistic):          2.70e-223\n",
       "Time:                        15:45:10   Log-Likelihood:                 106.92\n",
       "No. Observations:                 838   AIC:                            -203.8\n",
       "Df Residuals:                     833   BIC:                            -180.2\n",
       "Df Model:                           4                                         \n",
       "Covariance Type:            nonrobust                                         \n",
       "==============================================================================\n",
       "                 coef    std err          t      P>|t|      [0.025      0.975]\n",
       "------------------------------------------------------------------------------\n",
       "const          0.3162      0.043      7.427      0.000       0.233       0.400\n",
       "x1            -0.0012      0.001     -2.370      0.018      -0.002      -0.000\n",
       "x2            -0.0159      0.015     -1.073      0.283      -0.045       0.013\n",
       "x3            -0.0080      0.001     -6.401      0.000      -0.010      -0.006\n",
       "x4             0.4809      0.011     45.071      0.000       0.460       0.502\n",
       "==============================================================================\n",
       "Omnibus:                      108.242   Durbin-Watson:                   1.987\n",
       "Prob(Omnibus):                  0.000   Jarque-Bera (JB):              868.733\n",
       "Skew:                          -0.257   Prob(JB):                    2.27e-189\n",
       "Kurtosis:                       7.961   Cond. No.                         299.\n",
       "==============================================================================\n",
       "\n",
       "Warnings:\n",
       "[1] Standard Errors assume that the covariance matrix of the errors is correctly specified.\n",
       "\"\"\""
      ]
     },
     "execution_count": 171,
     "metadata": {},
     "output_type": "execute_result"
    }
   ],
   "source": [
    "varind = np.asarray(dados[[\"Idade\",\"Sexo\",\"IMC\",\"Despesas\"]])\n",
    "varind = sm.add_constant(varind)\n",
    "vardep = dados[\"Fumante\"]\n",
    "mod = sm.OLS(vardep.astype(float),varind.astype(float))\n",
    "res = mod.fit()\n",
    "res.summary()"
   ]
  },
  {
   "cell_type": "code",
   "execution_count": null,
   "metadata": {},
   "outputs": [],
   "source": []
  },
  {
   "cell_type": "code",
   "execution_count": null,
   "metadata": {},
   "outputs": [],
   "source": []
  }
 ],
 "metadata": {
  "kernelspec": {
   "display_name": "Python 3",
   "language": "python",
   "name": "python3"
  },
  "language_info": {
   "codemirror_mode": {
    "name": "ipython",
    "version": 3
   },
   "file_extension": ".py",
   "mimetype": "text/x-python",
   "name": "python",
   "nbconvert_exporter": "python",
   "pygments_lexer": "ipython3",
   "version": "3.6.5"
  }
 },
 "nbformat": 4,
 "nbformat_minor": 2
}
